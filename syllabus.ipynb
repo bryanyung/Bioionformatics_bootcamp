{
 "cells": [
  {
   "cell_type": "markdown",
   "metadata": {},
   "source": [
    "# Bioinformatics Bootcamp 2018\n",
    "**Biomedical Sciences Program - University of California San Diego (UCSD)**  \n",
    "\n",
    "### Contact us:\n",
    "Instructor: [Ryan Marina](mailto:rmarina@ucsd.edu) (rmarina@ucsd.edu)\n",
    "Instructor: [Josh Chiou](mailto:ecwheele@ucsd.edu) (joshchiou@ucsd.edu) \n",
    " \n",
    "\n",
    "### Lecture Location\n",
    "Lectures will all be held in CMME room 2047. See below for daily schedule.\n"
   ]
  },
  {
   "cell_type": "markdown",
   "metadata": {},
   "source": [
    "## Schedule\n",
    "\n",
    "| Day | Date | Time | Topic |\n",
    "| --- | ---- | ---- | ----- |\n",
    "| **0** | Pre-CLASS |  | Setup TSCC accounts |  \n",
    "| **Wednesday** | 9/26/18 | 9A - 1P | Intro to Sequencing, Unix, Data Download, Fastqc |  \n",
    "| **Thursday** | 9/27/18 | 9A - 1P | Intro to Alignment, Submitting Jobs to Cluster |  \n",
    "| **Friday** | 9/28/18 | 9A - 11A | Samtools and Gene quantification |  \n",
    "| **Monday** | 10/1/18 | 9A - 1P | Differential Expression and ATAC-seq |  \n",
    "| **Tuesday** | 10/2/18 | 9A - 1P | ATAC-seq (cont.) and Intergration with RNA-seq |  "
   ]
  },
  {
   "cell_type": "markdown",
   "metadata": {},
   "source": [
    "## Office Hours\n",
    "\n",
    "| Day | Date | Time | Location | Hosting |\n",
    "| --- | ---- | ---- | ----- | ------- |\n",
    "| **Thursday** | 9/27/18 | 4:30 P - 6P | Leichtag Lobby | Ryan M |\n",
    "| **Sunday** | 9/30/18 | 4P - 6P | SCRM Lobby | Ryan M |\n",
    "| **Tuesday** | 10/2/17 | TBA | TBA | Josh |"
   ]
  },
  {
   "cell_type": "markdown",
   "metadata": {},
   "source": [
    "\n",
    "\n",
    "## Group Project\n",
    "\n",
    "**Group Assignments**\n",
    " \n",
    "TBA\n",
    "\n",
    "**Weekend Homework Assignment**\n",
    "\n",
    "* Assigned Friday 9/28\n",
    "\n",
    "\n",
    "* Due to Ryan and Josh via email Tuesday 10/2 at 11:59 PM \n",
    "\n",
    "\n",
    "* Assignment will be posted momentarily "
   ]
  },
  {
   "cell_type": "code",
   "execution_count": null,
   "metadata": {
    "collapsed": true
   },
   "outputs": [],
   "source": []
  }
 ],
 "metadata": {
  "kernelspec": {
   "display_name": "Python 2",
   "language": "python",
   "name": "python2"
  },
  "language_info": {
   "codemirror_mode": {
    "name": "ipython",
    "version": 2
   },
   "file_extension": ".py",
   "mimetype": "text/x-python",
   "name": "python",
   "nbconvert_exporter": "python",
   "pygments_lexer": "ipython2",
   "version": "2.7.12"
  }
 },
 "nbformat": 4,
 "nbformat_minor": 1
}
