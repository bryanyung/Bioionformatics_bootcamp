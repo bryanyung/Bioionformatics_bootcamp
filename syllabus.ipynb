{
 "cells": [
  {
   "cell_type": "markdown",
   "metadata": {},
   "source": [
    "# Bioinformatics Bootcamp 2018\n",
    "**Biomedical Sciences Program - University of California San Diego (UCSD)**  \n",
    "\n",
    "### Contact us:\n",
    "Instructor: [Ryan Marina](mailto:rmarina@ucsd.edu) (rmarina@ucsd.edu)  \n",
    "Instructor: [Josh Chiou](mailto:joshchiou@ucsd.edu) (joshchiou@ucsd.edu) \n",
    " \n",
    "\n",
    "### Lecture Location\n",
    "Lectures will all be held in CMME room 2047. See below for daily schedule.\n"
   ]
  },
  {
   "cell_type": "markdown",
   "metadata": {},
   "source": [
    "## Schedule\n",
    "\n",
    "| Day | Date | Time | Topic |\n",
    "| --- | ---- | ---- | ----- |\n",
    "| **0** | Pre-CLASS |  | Setup TSCC accounts |  \n",
    "| **Wednesday** | 9/26/18 | 9A - 1P | Intro to Sequencing, Unix, Data Download, Fastqc |  \n",
    "| **Thursday** | 9/27/18 | 9A - 1P | Intro to Alignment, Submitting Jobs to Cluster |  \n",
    "| **Friday** | 9/28/18 | 9A - 11A | Samtools and Gene quantification |  \n",
    "| **Monday** | 10/1/18 | 9A - 1P | Differential Expression and ATAC-seq |  \n",
    "| **Tuesday** | 10/2/18 | 9A - 1P | ATAC-seq (cont.) and Intergration with RNA-seq |  "
   ]
  },
  {
   "cell_type": "markdown",
   "metadata": {},
   "source": [
    "## Office Hours\n",
    "\n",
    "| Day | Date | Time | Location | Hosting |\n",
    "| --- | ---- | ---- | ----- | ------- |\n",
    "| **Thursday** | 9/27/18 | 4:30 P - 6P | Leichtag Lobby | Ryan M |\n",
    "| **Sunday** | 9/30/18 | 4P - 6P | SCRM Lobby | Ryan M |\n",
    "| **Tuesday** | 10/2/18 | 1P - 2P | Leichtag Lobby | Josh |"
   ]
  },
  {
   "cell_type": "markdown",
   "metadata": {},
   "source": [
    "## Group Project\n",
    "\n",
    "**Group Assignments**\n",
    "\n",
    "| *Group* | Student 1 | Student 2 | Student 3 | Student 4 |\n",
    "| --- | --- | --- | --- | --- |\n",
    "| *Group 1* | Natalie | Patrick | Sara | August |\n",
    "| *Group 2* | Timothy | James | Danielle | Ivy | \n",
    "| *Group 3* | Daniel | Shawn | Miriam | Linnea |\n",
    "| *Group 4* | Gabriel | Erik | Norton | Yang |\n",
    "| *Group 5* | Brandon | Jenna | Samantha | Tiffany |\n",
    "| *Group 6* | Lucie | Erica | Bryan M. | Bryan Y. |\n",
    "\n",
    "**Module Group Assignment**\n",
    "\n",
    "* Assigned Friday 9/28/18\n",
    "\n",
    "* Assignment: Please download and complete the assignment posted in the group assignment tab in the github repository\n",
    "\n",
    "\n",
    "* Due to Ryan and Josh via email Wednesday 10/3 at 11:59 PM \n"
   ]
  },
  {
   "cell_type": "code",
   "execution_count": null,
   "metadata": {
    "collapsed": true
   },
   "outputs": [],
   "source": []
  }
 ],
 "metadata": {
  "kernelspec": {
   "display_name": "Python 2",
   "language": "python",
   "name": "python2"
  },
  "language_info": {
   "codemirror_mode": {
    "name": "ipython",
    "version": 2
   },
   "file_extension": ".py",
   "mimetype": "text/x-python",
   "name": "python",
   "nbconvert_exporter": "python",
   "pygments_lexer": "ipython2",
   "version": "2.7.12"
  }
 },
 "nbformat": 4,
 "nbformat_minor": 1
}
