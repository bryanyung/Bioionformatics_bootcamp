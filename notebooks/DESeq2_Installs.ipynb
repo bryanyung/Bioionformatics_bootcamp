{
 "cells": [
  {
   "cell_type": "markdown",
   "metadata": {},
   "source": [
    "## We will now use DESeq2 for differential expression analysis##"
   ]
  },
  {
   "cell_type": "markdown",
   "metadata": {},
   "source": [
    "You will first need to install DESeq2, which is a program that runs in R. So we need to install it within R. We will begin by first creating a separate environment in anaconda Here, we will make a number of installations separate from the packages that we installed previously. It is generally a good idea to create separate environments for each of your tasks to prevent \"overwriting\" different versions of certain packages. Let's make an environment for our DESeq2 installs:"
   ]
  },
  {
   "cell_type": "markdown",
   "metadata": {},
   "source": [
    "    conda create -y -n deseq2\n",
    "    \n",
    "This will essentially ask anaconda to make a new environment named (-n) deseq2. We can then activate this environment using:\n",
    "\n",
    "    source activate deseq2\n",
    "    \n",
    "We should see (deseq2) in the left-most portion of the screen now. This means that we have successfully entered our new environment."
   ]
  },
  {
   "cell_type": "markdown",
   "metadata": {},
   "source": [
    "Now, let's make some installs:\n",
    "\n",
    "    conda install -c r r-base=3.4\n",
    "\n",
    "    conda install -c r r-irkernel\n",
    "\n",
    "    conda install -c bioconda bioconductor-deseq2\n",
    "\n",
    "Answer yes to all updates. Once we have made these installs, let's open R on the command line by typing:\n",
    "\n",
    "    R\n",
    "    \n",
    "To run R through Jupyter, we will need to create an R kernel, which will allow us to use the R installs that we made in this enivoronment. To do so, we will be using IRkernel, which we installed using anaconda. We will type the following command while in R:\n",
    "\n",
    "    IRkernel::installspec(displayname=\"deseq2\")\n",
    "\n",
    "\n",
    "Be sure to TYPE THIS before pressing Enter. The quotation marks tend to get messed up with copy-and-paste, and thus must be entered manually to work. Once you have done this, we can exit R:\n",
    "\n",
    "    q()\n",
    "    \n",
    "    Save workspace image? [y/n/c]: n\n",
    "    \n",
    "And now, on the command-line we can deactivate this environment:\n",
    "\n",
    "    source deactivate \n",
    "    \n",
    "Now, when we launch our Jupyter notebooks, we will be able to open a notebook with a \"deseq2\" kernel. This is an R kernel that has all of our specs in place to run DESeq2 analysis."
   ]
  },
  {
   "cell_type": "code",
   "execution_count": null,
   "metadata": {
    "collapsed": true
   },
   "outputs": [],
   "source": []
  }
 ],
 "metadata": {
  "kernelspec": {
   "display_name": "Python 2",
   "language": "python",
   "name": "python2"
  },
  "language_info": {
   "codemirror_mode": {
    "name": "ipython",
    "version": 2
   },
   "file_extension": ".py",
   "mimetype": "text/x-python",
   "name": "python",
   "nbconvert_exporter": "python",
   "pygments_lexer": "ipython2",
   "version": "2.7.12"
  }
 },
 "nbformat": 4,
 "nbformat_minor": 2
}
