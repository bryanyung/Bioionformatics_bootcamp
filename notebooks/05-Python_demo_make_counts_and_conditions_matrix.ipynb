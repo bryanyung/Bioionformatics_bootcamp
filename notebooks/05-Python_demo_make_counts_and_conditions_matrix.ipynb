{
 "cells": [
  {
   "cell_type": "markdown",
   "metadata": {},
   "source": [
    "# Making Counts Matrix for DESeq2 using Python#"
   ]
  },
  {
   "cell_type": "markdown",
   "metadata": {},
   "source": [
    "We will now take the output from our featureCounts read summary program and use it to make a counts matrix. A counts matrix is a dataframe that displays the number of reads, or counts, for each gene. All experimental samples will be represented at once in in the rows of this dataframe as well. This is a comprehensive way of making sense of our previous alignment files."
   ]
  },
  {
   "cell_type": "markdown",
   "metadata": {},
   "source": [
    "**Example Counts Matrix Format**\n",
    "\n",
    "|  | Sample_1 | Sample_2 | Sample_3 | Sample_4 |\n",
    "| --- | --- | --- | --- | --- |\n",
    "| Gene_1 | 1 | 2 | 4 | 5 |\n",
    "| Gene_2 | 12 | 8 | 7 | 10 | \n",
    "| Gene_3 | 45 | 55 | 16 | 21 |\n",
    "| Gene_4 | 17 | 22 | 70 | 65 | |\n",
    "\n"
   ]
  },
  {
   "cell_type": "markdown",
   "metadata": {},
   "source": [
    "Let's begin by opening Jupyter notebooks. Notebooks are documents that we use to write and execute code, and are a great way to analyze data, make figures, and export your analysis using Python and R packages. Let's use this [notebook](https://github.com/ryanmarina/BMS_bioinformatics_bootcamp_2018/blob/master/tutorials/How_to_load_jupyter_notebooks.ipynb) to learn how we can connect to Jupyter through TSCC. Once we do that, let's start importing some data:"
   ]
  },
  {
   "cell_type": "code",
   "execution_count": 2,
   "metadata": {
    "collapsed": true
   },
   "outputs": [],
   "source": [
    "#First we will import packages that contain functions we will use here. \n",
    "\n",
    "#Pandas is a great python package for dataframe manipulation.\n",
    "import pandas as pd"
   ]
  },
  {
   "cell_type": "markdown",
   "metadata": {},
   "source": [
    "read_table is the command that will read in a tab separated file as a dataframe. See what other pandas read functions are available by pressing tab after pd.read. Auto-complete will show you all the options. \n",
    "\n",
    "We are going to set the index of the dataframe as the first column rather than an arbitrary number. (Try this function both with and without setting the index, how is it different??) If you look at the file we are loading with less on the command line, you will see that there are comments at the top of the file on lines that start with #. We need to tell pandas to ignore those when loading the dataframe. So we will use comment = \"#\".\n",
    "\n",
    "To make sure that all manipulations are doing what we expect, we will also print the shape of the dataframe (do the number of rows and columns make sense) and look at the beginning of the dataframe with df.head()"
   ]
  },
  {
   "cell_type": "code",
   "execution_count": 3,
   "metadata": {
    "collapsed": false
   },
   "outputs": [
    {
     "name": "stdout",
     "output_type": "stream",
     "text": [
      "(53379, 9)\n"
     ]
    },
    {
     "data": {
      "text/html": [
       "<div>\n",
       "<table border=\"1\" class=\"dataframe\">\n",
       "  <thead>\n",
       "    <tr style=\"text-align: right;\">\n",
       "      <th></th>\n",
       "      <th>Chr</th>\n",
       "      <th>Start</th>\n",
       "      <th>End</th>\n",
       "      <th>Strand</th>\n",
       "      <th>Length</th>\n",
       "      <th>/home/ucsd-train40/bms_2018/rna_seq/analysis/star_alignment/sam_files/mouse_0hr_rep1_Aligned.out.sam</th>\n",
       "      <th>/home/ucsd-train40/bms_2018/rna_seq/analysis/star_alignment/sam_files/mouse_0hr_rep2_Aligned.out.sam</th>\n",
       "      <th>/home/ucsd-train40/bms_2018/rna_seq/analysis/star_alignment/sam_files/mouse_4hr_rep1_Aligned.out.sam</th>\n",
       "      <th>/home/ucsd-train40/bms_2018/rna_seq/analysis/star_alignment/sam_files/mouse_4hr_rep2_Aligned.out.sam</th>\n",
       "    </tr>\n",
       "    <tr>\n",
       "      <th>Geneid</th>\n",
       "      <th></th>\n",
       "      <th></th>\n",
       "      <th></th>\n",
       "      <th></th>\n",
       "      <th></th>\n",
       "      <th></th>\n",
       "      <th></th>\n",
       "      <th></th>\n",
       "      <th></th>\n",
       "    </tr>\n",
       "  </thead>\n",
       "  <tbody>\n",
       "    <tr>\n",
       "      <th>ENSMUSG00000102693.1</th>\n",
       "      <td>chr1</td>\n",
       "      <td>3073253</td>\n",
       "      <td>3074322</td>\n",
       "      <td>+</td>\n",
       "      <td>1070</td>\n",
       "      <td>0</td>\n",
       "      <td>0</td>\n",
       "      <td>0</td>\n",
       "      <td>0</td>\n",
       "    </tr>\n",
       "    <tr>\n",
       "      <th>ENSMUSG00000064842.1</th>\n",
       "      <td>chr1</td>\n",
       "      <td>3102016</td>\n",
       "      <td>3102125</td>\n",
       "      <td>+</td>\n",
       "      <td>110</td>\n",
       "      <td>0</td>\n",
       "      <td>0</td>\n",
       "      <td>0</td>\n",
       "      <td>0</td>\n",
       "    </tr>\n",
       "    <tr>\n",
       "      <th>ENSMUSG00000051951.5</th>\n",
       "      <td>chr1;chr1;chr1;chr1;chr1;chr1;chr1</td>\n",
       "      <td>3205901;3206523;3213439;3213609;3214482;342170...</td>\n",
       "      <td>3207317;3207317;3215632;3216344;3216968;342190...</td>\n",
       "      <td>-;-;-;-;-;-;-</td>\n",
       "      <td>6094</td>\n",
       "      <td>0</td>\n",
       "      <td>0</td>\n",
       "      <td>1</td>\n",
       "      <td>0</td>\n",
       "    </tr>\n",
       "    <tr>\n",
       "      <th>ENSMUSG00000102851.1</th>\n",
       "      <td>chr1</td>\n",
       "      <td>3252757</td>\n",
       "      <td>3253236</td>\n",
       "      <td>+</td>\n",
       "      <td>480</td>\n",
       "      <td>0</td>\n",
       "      <td>0</td>\n",
       "      <td>0</td>\n",
       "      <td>0</td>\n",
       "    </tr>\n",
       "    <tr>\n",
       "      <th>ENSMUSG00000103377.1</th>\n",
       "      <td>chr1</td>\n",
       "      <td>3365731</td>\n",
       "      <td>3368549</td>\n",
       "      <td>-</td>\n",
       "      <td>2819</td>\n",
       "      <td>1</td>\n",
       "      <td>0</td>\n",
       "      <td>0</td>\n",
       "      <td>0</td>\n",
       "    </tr>\n",
       "  </tbody>\n",
       "</table>\n",
       "</div>"
      ],
      "text/plain": [
       "                                                     Chr  \\\n",
       "Geneid                                                     \n",
       "ENSMUSG00000102693.1                                chr1   \n",
       "ENSMUSG00000064842.1                                chr1   \n",
       "ENSMUSG00000051951.5  chr1;chr1;chr1;chr1;chr1;chr1;chr1   \n",
       "ENSMUSG00000102851.1                                chr1   \n",
       "ENSMUSG00000103377.1                                chr1   \n",
       "\n",
       "                                                                  Start  \\\n",
       "Geneid                                                                    \n",
       "ENSMUSG00000102693.1                                            3073253   \n",
       "ENSMUSG00000064842.1                                            3102016   \n",
       "ENSMUSG00000051951.5  3205901;3206523;3213439;3213609;3214482;342170...   \n",
       "ENSMUSG00000102851.1                                            3252757   \n",
       "ENSMUSG00000103377.1                                            3365731   \n",
       "\n",
       "                                                                    End  \\\n",
       "Geneid                                                                    \n",
       "ENSMUSG00000102693.1                                            3074322   \n",
       "ENSMUSG00000064842.1                                            3102125   \n",
       "ENSMUSG00000051951.5  3207317;3207317;3215632;3216344;3216968;342190...   \n",
       "ENSMUSG00000102851.1                                            3253236   \n",
       "ENSMUSG00000103377.1                                            3368549   \n",
       "\n",
       "                             Strand  Length  \\\n",
       "Geneid                                        \n",
       "ENSMUSG00000102693.1              +    1070   \n",
       "ENSMUSG00000064842.1              +     110   \n",
       "ENSMUSG00000051951.5  -;-;-;-;-;-;-    6094   \n",
       "ENSMUSG00000102851.1              +     480   \n",
       "ENSMUSG00000103377.1              -    2819   \n",
       "\n",
       "                      /home/ucsd-train40/bms_2018/rna_seq/analysis/star_alignment/sam_files/mouse_0hr_rep1_Aligned.out.sam  \\\n",
       "Geneid                                                                                                                       \n",
       "ENSMUSG00000102693.1                                                  0                                                      \n",
       "ENSMUSG00000064842.1                                                  0                                                      \n",
       "ENSMUSG00000051951.5                                                  0                                                      \n",
       "ENSMUSG00000102851.1                                                  0                                                      \n",
       "ENSMUSG00000103377.1                                                  1                                                      \n",
       "\n",
       "                      /home/ucsd-train40/bms_2018/rna_seq/analysis/star_alignment/sam_files/mouse_0hr_rep2_Aligned.out.sam  \\\n",
       "Geneid                                                                                                                       \n",
       "ENSMUSG00000102693.1                                                  0                                                      \n",
       "ENSMUSG00000064842.1                                                  0                                                      \n",
       "ENSMUSG00000051951.5                                                  0                                                      \n",
       "ENSMUSG00000102851.1                                                  0                                                      \n",
       "ENSMUSG00000103377.1                                                  0                                                      \n",
       "\n",
       "                      /home/ucsd-train40/bms_2018/rna_seq/analysis/star_alignment/sam_files/mouse_4hr_rep1_Aligned.out.sam  \\\n",
       "Geneid                                                                                                                       \n",
       "ENSMUSG00000102693.1                                                  0                                                      \n",
       "ENSMUSG00000064842.1                                                  0                                                      \n",
       "ENSMUSG00000051951.5                                                  1                                                      \n",
       "ENSMUSG00000102851.1                                                  0                                                      \n",
       "ENSMUSG00000103377.1                                                  0                                                      \n",
       "\n",
       "                      /home/ucsd-train40/bms_2018/rna_seq/analysis/star_alignment/sam_files/mouse_4hr_rep2_Aligned.out.sam  \n",
       "Geneid                                                                                                                      \n",
       "ENSMUSG00000102693.1                                                  0                                                     \n",
       "ENSMUSG00000064842.1                                                  0                                                     \n",
       "ENSMUSG00000051951.5                                                  0                                                     \n",
       "ENSMUSG00000102851.1                                                  0                                                     \n",
       "ENSMUSG00000103377.1                                                  0                                                     "
      ]
     },
     "execution_count": 3,
     "metadata": {},
     "output_type": "execute_result"
    }
   ],
   "source": [
    "counts = pd.read_table(\"/oasis/tscc/scratch/biom200/bms_2018/rna_seq/analysis/featurecounts/featureCounts.txt\", \n",
    "                       index_col=0, \n",
    "                       comment=\"#\")\n",
    "print counts.shape\n",
    "counts.head()"
   ]
  },
  {
   "cell_type": "code",
   "execution_count": 4,
   "metadata": {
    "collapsed": false
   },
   "outputs": [
    {
     "name": "stdout",
     "output_type": "stream",
     "text": [
      "(53379, 5)\n"
     ]
    },
    {
     "data": {
      "text/html": [
       "<div>\n",
       "<table border=\"1\" class=\"dataframe\">\n",
       "  <thead>\n",
       "    <tr style=\"text-align: right;\">\n",
       "      <th></th>\n",
       "      <th>Length</th>\n",
       "      <th>/home/ucsd-train40/bms_2018/rna_seq/analysis/star_alignment/sam_files/mouse_0hr_rep1_Aligned.out.sam</th>\n",
       "      <th>/home/ucsd-train40/bms_2018/rna_seq/analysis/star_alignment/sam_files/mouse_0hr_rep2_Aligned.out.sam</th>\n",
       "      <th>/home/ucsd-train40/bms_2018/rna_seq/analysis/star_alignment/sam_files/mouse_4hr_rep1_Aligned.out.sam</th>\n",
       "      <th>/home/ucsd-train40/bms_2018/rna_seq/analysis/star_alignment/sam_files/mouse_4hr_rep2_Aligned.out.sam</th>\n",
       "    </tr>\n",
       "    <tr>\n",
       "      <th>Geneid</th>\n",
       "      <th></th>\n",
       "      <th></th>\n",
       "      <th></th>\n",
       "      <th></th>\n",
       "      <th></th>\n",
       "    </tr>\n",
       "  </thead>\n",
       "  <tbody>\n",
       "    <tr>\n",
       "      <th>ENSMUSG00000102693.1</th>\n",
       "      <td>1070</td>\n",
       "      <td>0</td>\n",
       "      <td>0</td>\n",
       "      <td>0</td>\n",
       "      <td>0</td>\n",
       "    </tr>\n",
       "    <tr>\n",
       "      <th>ENSMUSG00000064842.1</th>\n",
       "      <td>110</td>\n",
       "      <td>0</td>\n",
       "      <td>0</td>\n",
       "      <td>0</td>\n",
       "      <td>0</td>\n",
       "    </tr>\n",
       "    <tr>\n",
       "      <th>ENSMUSG00000051951.5</th>\n",
       "      <td>6094</td>\n",
       "      <td>0</td>\n",
       "      <td>0</td>\n",
       "      <td>1</td>\n",
       "      <td>0</td>\n",
       "    </tr>\n",
       "    <tr>\n",
       "      <th>ENSMUSG00000102851.1</th>\n",
       "      <td>480</td>\n",
       "      <td>0</td>\n",
       "      <td>0</td>\n",
       "      <td>0</td>\n",
       "      <td>0</td>\n",
       "    </tr>\n",
       "    <tr>\n",
       "      <th>ENSMUSG00000103377.1</th>\n",
       "      <td>2819</td>\n",
       "      <td>1</td>\n",
       "      <td>0</td>\n",
       "      <td>0</td>\n",
       "      <td>0</td>\n",
       "    </tr>\n",
       "  </tbody>\n",
       "</table>\n",
       "</div>"
      ],
      "text/plain": [
       "                      Length  \\\n",
       "Geneid                         \n",
       "ENSMUSG00000102693.1    1070   \n",
       "ENSMUSG00000064842.1     110   \n",
       "ENSMUSG00000051951.5    6094   \n",
       "ENSMUSG00000102851.1     480   \n",
       "ENSMUSG00000103377.1    2819   \n",
       "\n",
       "                      /home/ucsd-train40/bms_2018/rna_seq/analysis/star_alignment/sam_files/mouse_0hr_rep1_Aligned.out.sam  \\\n",
       "Geneid                                                                                                                       \n",
       "ENSMUSG00000102693.1                                                  0                                                      \n",
       "ENSMUSG00000064842.1                                                  0                                                      \n",
       "ENSMUSG00000051951.5                                                  0                                                      \n",
       "ENSMUSG00000102851.1                                                  0                                                      \n",
       "ENSMUSG00000103377.1                                                  1                                                      \n",
       "\n",
       "                      /home/ucsd-train40/bms_2018/rna_seq/analysis/star_alignment/sam_files/mouse_0hr_rep2_Aligned.out.sam  \\\n",
       "Geneid                                                                                                                       \n",
       "ENSMUSG00000102693.1                                                  0                                                      \n",
       "ENSMUSG00000064842.1                                                  0                                                      \n",
       "ENSMUSG00000051951.5                                                  0                                                      \n",
       "ENSMUSG00000102851.1                                                  0                                                      \n",
       "ENSMUSG00000103377.1                                                  0                                                      \n",
       "\n",
       "                      /home/ucsd-train40/bms_2018/rna_seq/analysis/star_alignment/sam_files/mouse_4hr_rep1_Aligned.out.sam  \\\n",
       "Geneid                                                                                                                       \n",
       "ENSMUSG00000102693.1                                                  0                                                      \n",
       "ENSMUSG00000064842.1                                                  0                                                      \n",
       "ENSMUSG00000051951.5                                                  1                                                      \n",
       "ENSMUSG00000102851.1                                                  0                                                      \n",
       "ENSMUSG00000103377.1                                                  0                                                      \n",
       "\n",
       "                      /home/ucsd-train40/bms_2018/rna_seq/analysis/star_alignment/sam_files/mouse_4hr_rep2_Aligned.out.sam  \n",
       "Geneid                                                                                                                      \n",
       "ENSMUSG00000102693.1                                                  0                                                     \n",
       "ENSMUSG00000064842.1                                                  0                                                     \n",
       "ENSMUSG00000051951.5                                                  0                                                     \n",
       "ENSMUSG00000102851.1                                                  0                                                     \n",
       "ENSMUSG00000103377.1                                                  0                                                     "
      ]
     },
     "execution_count": 4,
     "metadata": {},
     "output_type": "execute_result"
    }
   ],
   "source": [
    "#This is the syntax to make a list in python. Lists are surrounded by square brackets. \n",
    "\n",
    "#We don't care about a few columns in the dataframe, so let's get rid of them.\n",
    "\n",
    "cols_to_drop = ['Chr','Start','End','Strand']\n",
    "\n",
    "#The command to get rid of rows is df.drop\n",
    "#We provide a list of columns to drop, and the axis that contains these values (1 is columns, 0 is rows)\n",
    "counts = counts.drop(cols_to_drop, axis=1)\n",
    "print counts.shape\n",
    "counts.head()"
   ]
  },
  {
   "cell_type": "markdown",
   "metadata": {},
   "source": [
    "Notice how dropping 4 columns changed the number of rows in the dataframe. \n",
    "\n",
    "The column names are pretty annoying because they list the full path and the bam file name. Let's rename them to something shorter. We can use\n",
    "\n",
    "    counts.columns\n",
    "    \n",
    "to give us a list of column names. This is easy to copy the ones we want into a dictionary that we will make below. "
   ]
  },
  {
   "cell_type": "code",
   "execution_count": 5,
   "metadata": {
    "collapsed": false
   },
   "outputs": [
    {
     "data": {
      "text/plain": [
       "Index([u'Length',\n",
       "       u'/home/ucsd-train40/bms_2018/rna_seq/analysis/star_alignment/sam_files/mouse_0hr_rep1_Aligned.out.sam',\n",
       "       u'/home/ucsd-train40/bms_2018/rna_seq/analysis/star_alignment/sam_files/mouse_0hr_rep2_Aligned.out.sam',\n",
       "       u'/home/ucsd-train40/bms_2018/rna_seq/analysis/star_alignment/sam_files/mouse_4hr_rep1_Aligned.out.sam',\n",
       "       u'/home/ucsd-train40/bms_2018/rna_seq/analysis/star_alignment/sam_files/mouse_4hr_rep2_Aligned.out.sam'],\n",
       "      dtype='object')"
      ]
     },
     "execution_count": 5,
     "metadata": {},
     "output_type": "execute_result"
    }
   ],
   "source": [
    "counts.columns"
   ]
  },
  {
   "cell_type": "markdown",
   "metadata": {},
   "source": [
    "A dictionary lets us link a key:value pair. In this instance we are using a key that is the old name and a value that is the new name. We will use this pairing scheme to define all old:new column names and feed that into a function to rename columns. \n",
    "\n",
    "Dictionaries are make with {\"key\":\"value\", \"key2\":\"value2\", \"key3\":\"value3}"
   ]
  },
  {
   "cell_type": "code",
   "execution_count": 6,
   "metadata": {
    "collapsed": true
   },
   "outputs": [],
   "source": [
    "col_names = {'/home/ucsd-train40/bms_2018/rna_seq/analysis/star_alignment/sam_files/mouse_0hr_rep1_Aligned.out.sam':\"mouse_0hr_rep1\",\n",
    "       '/home/ucsd-train40/bms_2018/rna_seq/analysis/star_alignment/sam_files/mouse_0hr_rep2_Aligned.out.sam':\"mouse_0hr_rep2\",\n",
    "       '/home/ucsd-train40/bms_2018/rna_seq/analysis/star_alignment/sam_files/mouse_4hr_rep1_Aligned.out.sam':\"mouse_4hr_rep1\",\n",
    "       '/home/ucsd-train40/bms_2018/rna_seq/analysis/star_alignment/sam_files/mouse_4hr_rep2_Aligned.out.sam':\"mouse_4hr_rep2\"}"
   ]
  },
  {
   "cell_type": "markdown",
   "metadata": {},
   "source": [
    "You can put a dictionary in the rename function to rename the columns. Let's feed in the dictionary that we made called col_names. Check the shape and head of the dataframe to make sure the changes happened as you expected them to."
   ]
  },
  {
   "cell_type": "code",
   "execution_count": 7,
   "metadata": {
    "collapsed": false
   },
   "outputs": [
    {
     "name": "stdout",
     "output_type": "stream",
     "text": [
      "(53379, 5)\n"
     ]
    },
    {
     "data": {
      "text/html": [
       "<div>\n",
       "<table border=\"1\" class=\"dataframe\">\n",
       "  <thead>\n",
       "    <tr style=\"text-align: right;\">\n",
       "      <th></th>\n",
       "      <th>Length</th>\n",
       "      <th>mouse_0hr_rep1</th>\n",
       "      <th>mouse_0hr_rep2</th>\n",
       "      <th>mouse_4hr_rep1</th>\n",
       "      <th>mouse_4hr_rep2</th>\n",
       "    </tr>\n",
       "    <tr>\n",
       "      <th>Geneid</th>\n",
       "      <th></th>\n",
       "      <th></th>\n",
       "      <th></th>\n",
       "      <th></th>\n",
       "      <th></th>\n",
       "    </tr>\n",
       "  </thead>\n",
       "  <tbody>\n",
       "    <tr>\n",
       "      <th>ENSMUSG00000102693.1</th>\n",
       "      <td>1070</td>\n",
       "      <td>0</td>\n",
       "      <td>0</td>\n",
       "      <td>0</td>\n",
       "      <td>0</td>\n",
       "    </tr>\n",
       "    <tr>\n",
       "      <th>ENSMUSG00000064842.1</th>\n",
       "      <td>110</td>\n",
       "      <td>0</td>\n",
       "      <td>0</td>\n",
       "      <td>0</td>\n",
       "      <td>0</td>\n",
       "    </tr>\n",
       "    <tr>\n",
       "      <th>ENSMUSG00000051951.5</th>\n",
       "      <td>6094</td>\n",
       "      <td>0</td>\n",
       "      <td>0</td>\n",
       "      <td>1</td>\n",
       "      <td>0</td>\n",
       "    </tr>\n",
       "    <tr>\n",
       "      <th>ENSMUSG00000102851.1</th>\n",
       "      <td>480</td>\n",
       "      <td>0</td>\n",
       "      <td>0</td>\n",
       "      <td>0</td>\n",
       "      <td>0</td>\n",
       "    </tr>\n",
       "    <tr>\n",
       "      <th>ENSMUSG00000103377.1</th>\n",
       "      <td>2819</td>\n",
       "      <td>1</td>\n",
       "      <td>0</td>\n",
       "      <td>0</td>\n",
       "      <td>0</td>\n",
       "    </tr>\n",
       "  </tbody>\n",
       "</table>\n",
       "</div>"
      ],
      "text/plain": [
       "                      Length  mouse_0hr_rep1  mouse_0hr_rep2  mouse_4hr_rep1  \\\n",
       "Geneid                                                                         \n",
       "ENSMUSG00000102693.1    1070               0               0               0   \n",
       "ENSMUSG00000064842.1     110               0               0               0   \n",
       "ENSMUSG00000051951.5    6094               0               0               1   \n",
       "ENSMUSG00000102851.1     480               0               0               0   \n",
       "ENSMUSG00000103377.1    2819               1               0               0   \n",
       "\n",
       "                      mouse_4hr_rep2  \n",
       "Geneid                                \n",
       "ENSMUSG00000102693.1               0  \n",
       "ENSMUSG00000064842.1               0  \n",
       "ENSMUSG00000051951.5               0  \n",
       "ENSMUSG00000102851.1               0  \n",
       "ENSMUSG00000103377.1               0  "
      ]
     },
     "execution_count": 7,
     "metadata": {},
     "output_type": "execute_result"
    }
   ],
   "source": [
    "counts = counts.rename(columns = col_names)\n",
    "print counts.shape\n",
    "counts.head()"
   ]
  },
  {
   "cell_type": "markdown",
   "metadata": {},
   "source": [
    "You will notice that this dataframe has almost 58,000 genes. That's a lot. And it looks like there might be a lot with very few counts. So we are going to calculate the mean counts across all of our samples and get rid of genes that have a mean count of less than 5.\n",
    "\n",
    "You will notice that our dataframe also contains length information"
   ]
  },
  {
   "cell_type": "code",
   "execution_count": 8,
   "metadata": {
    "collapsed": false
   },
   "outputs": [
    {
     "data": {
      "text/plain": [
       "Index([u'Length', u'mouse_0hr_rep1', u'mouse_0hr_rep2', u'mouse_4hr_rep1',\n",
       "       u'mouse_4hr_rep2'],\n",
       "      dtype='object')"
      ]
     },
     "execution_count": 8,
     "metadata": {},
     "output_type": "execute_result"
    }
   ],
   "source": [
    "counts.columns"
   ]
  },
  {
   "cell_type": "markdown",
   "metadata": {},
   "source": [
    "Let's make a list of the columns that we want to look at when calculating the mean. We don't want to include the Length value in our mean calculation. "
   ]
  },
  {
   "cell_type": "code",
   "execution_count": 9,
   "metadata": {
    "collapsed": true
   },
   "outputs": [],
   "source": [
    "samples = ['mouse_0hr_rep1', 'mouse_0hr_rep2', 'mouse_4hr_rep1', 'mouse_4hr_rep2']"
   ]
  },
  {
   "cell_type": "markdown",
   "metadata": {},
   "source": [
    "Access only those columns by putting the list in square brackets after the name of the dataframe. Calculate mean across the rows with .mean(axis=1). Let's take a look at the first 5 results .head()"
   ]
  },
  {
   "cell_type": "code",
   "execution_count": 10,
   "metadata": {
    "collapsed": false
   },
   "outputs": [
    {
     "data": {
      "text/plain": [
       "Geneid\n",
       "ENSMUSG00000102693.1    0.00\n",
       "ENSMUSG00000064842.1    0.00\n",
       "ENSMUSG00000051951.5    0.25\n",
       "ENSMUSG00000102851.1    0.00\n",
       "ENSMUSG00000103377.1    0.25\n",
       "dtype: float64"
      ]
     },
     "execution_count": 10,
     "metadata": {},
     "output_type": "execute_result"
    }
   ],
   "source": [
    "counts[samples].mean(axis=1).head()"
   ]
  },
  {
   "cell_type": "markdown",
   "metadata": {},
   "source": [
    "Set the filtering cutoff at 5. We want to keep genes that have a mean count value greater than 5. Use a boolean to find out which genes have a mean greater than 5. This returns a True/False array of genes to keep."
   ]
  },
  {
   "cell_type": "code",
   "execution_count": 11,
   "metadata": {
    "collapsed": false
   },
   "outputs": [
    {
     "data": {
      "text/plain": [
       "Geneid\n",
       "ENSMUSG00000102693.1     False\n",
       "ENSMUSG00000064842.1     False\n",
       "ENSMUSG00000051951.5     False\n",
       "ENSMUSG00000102851.1     False\n",
       "ENSMUSG00000103377.1     False\n",
       "ENSMUSG00000104017.1     False\n",
       "ENSMUSG00000103025.1     False\n",
       "ENSMUSG00000089699.1     False\n",
       "ENSMUSG00000103201.1     False\n",
       "ENSMUSG00000103147.1     False\n",
       "ENSMUSG00000103161.1     False\n",
       "ENSMUSG00000102331.1     False\n",
       "ENSMUSG00000102348.1     False\n",
       "ENSMUSG00000102592.1     False\n",
       "ENSMUSG00000088333.2     False\n",
       "ENSMUSG00000102343.1     False\n",
       "ENSMUSG00000025900.12    False\n",
       "ENSMUSG00000102948.1     False\n",
       "ENSMUSG00000104123.1     False\n",
       "ENSMUSG00000025902.13    False\n",
       "ENSMUSG00000104238.1     False\n",
       "ENSMUSG00000102269.1     False\n",
       "ENSMUSG00000096126.1     False\n",
       "ENSMUSG00000103003.1     False\n",
       "ENSMUSG00000104328.1     False\n",
       "ENSMUSG00000102735.1     False\n",
       "ENSMUSG00000098104.1     False\n",
       "ENSMUSG00000102175.1     False\n",
       "ENSMUSG00000088000.1     False\n",
       "ENSMUSG00000103265.1     False\n",
       "                         ...  \n",
       "ENSMUSG00000064343.1      True\n",
       "ENSMUSG00000064344.1      True\n",
       "ENSMUSG00000064345.1      True\n",
       "ENSMUSG00000064346.1      True\n",
       "ENSMUSG00000064347.1      True\n",
       "ENSMUSG00000064348.1      True\n",
       "ENSMUSG00000064349.1      True\n",
       "ENSMUSG00000064350.1      True\n",
       "ENSMUSG00000064351.1      True\n",
       "ENSMUSG00000064352.1      True\n",
       "ENSMUSG00000064353.1     False\n",
       "ENSMUSG00000064354.1      True\n",
       "ENSMUSG00000064355.1     False\n",
       "ENSMUSG00000064356.3      True\n",
       "ENSMUSG00000064357.1      True\n",
       "ENSMUSG00000064358.1      True\n",
       "ENSMUSG00000064359.1      True\n",
       "ENSMUSG00000064360.1      True\n",
       "ENSMUSG00000064361.1      True\n",
       "ENSMUSG00000065947.3      True\n",
       "ENSMUSG00000064363.1      True\n",
       "ENSMUSG00000064364.1      True\n",
       "ENSMUSG00000064365.1      True\n",
       "ENSMUSG00000064366.1      True\n",
       "ENSMUSG00000064367.1      True\n",
       "ENSMUSG00000064368.1      True\n",
       "ENSMUSG00000064369.1      True\n",
       "ENSMUSG00000064370.1      True\n",
       "ENSMUSG00000064371.1      True\n",
       "ENSMUSG00000064372.1      True\n",
       "dtype: bool"
      ]
     },
     "execution_count": 11,
     "metadata": {},
     "output_type": "execute_result"
    }
   ],
   "source": [
    "counts[samples].mean(axis=1) > 5"
   ]
  },
  {
   "cell_type": "markdown",
   "metadata": {},
   "source": [
    "Let's save this result and call it genes_to_keep. Notice a few key things. The True/False is described by the GeneID. The geneid is also the index of our dataframe. This is very important!!"
   ]
  },
  {
   "cell_type": "code",
   "execution_count": 12,
   "metadata": {
    "collapsed": true
   },
   "outputs": [],
   "source": [
    "genes_to_keep = counts[samples].mean(axis=1) > 5"
   ]
  },
  {
   "cell_type": "markdown",
   "metadata": {},
   "source": [
    "Since the geneID is the index of our dataframe, we can use .loc to only keep instances where the geneID is True. So the syntax of the following command is dataframe.loc[]. Inside the square bracket is an array describing for each item in the index, whether or not to keep it. True items are kept, false items are removed. Take a look at how this affects how many rows are in the dataframe with .shape. How many genes are left in our analysis? "
   ]
  },
  {
   "cell_type": "code",
   "execution_count": 13,
   "metadata": {
    "collapsed": false
   },
   "outputs": [
    {
     "name": "stdout",
     "output_type": "stream",
     "text": [
      "(16082, 5)\n"
     ]
    },
    {
     "data": {
      "text/html": [
       "<div>\n",
       "<table border=\"1\" class=\"dataframe\">\n",
       "  <thead>\n",
       "    <tr style=\"text-align: right;\">\n",
       "      <th></th>\n",
       "      <th>Length</th>\n",
       "      <th>mouse_0hr_rep1</th>\n",
       "      <th>mouse_0hr_rep2</th>\n",
       "      <th>mouse_4hr_rep1</th>\n",
       "      <th>mouse_4hr_rep2</th>\n",
       "    </tr>\n",
       "    <tr>\n",
       "      <th>Geneid</th>\n",
       "      <th></th>\n",
       "      <th></th>\n",
       "      <th></th>\n",
       "      <th></th>\n",
       "      <th></th>\n",
       "    </tr>\n",
       "  </thead>\n",
       "  <tbody>\n",
       "    <tr>\n",
       "      <th>ENSMUSG00000103922.1</th>\n",
       "      <td>1069</td>\n",
       "      <td>3</td>\n",
       "      <td>7</td>\n",
       "      <td>5</td>\n",
       "      <td>8</td>\n",
       "    </tr>\n",
       "    <tr>\n",
       "      <th>ENSMUSG00000033845.13</th>\n",
       "      <td>8487</td>\n",
       "      <td>292</td>\n",
       "      <td>546</td>\n",
       "      <td>135</td>\n",
       "      <td>175</td>\n",
       "    </tr>\n",
       "    <tr>\n",
       "      <th>ENSMUSG00000025903.14</th>\n",
       "      <td>7145</td>\n",
       "      <td>423</td>\n",
       "      <td>525</td>\n",
       "      <td>285</td>\n",
       "      <td>365</td>\n",
       "    </tr>\n",
       "    <tr>\n",
       "      <th>ENSMUSG00000033813.15</th>\n",
       "      <td>3017</td>\n",
       "      <td>577</td>\n",
       "      <td>561</td>\n",
       "      <td>564</td>\n",
       "      <td>483</td>\n",
       "    </tr>\n",
       "    <tr>\n",
       "      <th>ENSMUSG00000103280.1</th>\n",
       "      <td>1111</td>\n",
       "      <td>20</td>\n",
       "      <td>3</td>\n",
       "      <td>0</td>\n",
       "      <td>6</td>\n",
       "    </tr>\n",
       "  </tbody>\n",
       "</table>\n",
       "</div>"
      ],
      "text/plain": [
       "                       Length  mouse_0hr_rep1  mouse_0hr_rep2  mouse_4hr_rep1  \\\n",
       "Geneid                                                                          \n",
       "ENSMUSG00000103922.1     1069               3               7               5   \n",
       "ENSMUSG00000033845.13    8487             292             546             135   \n",
       "ENSMUSG00000025903.14    7145             423             525             285   \n",
       "ENSMUSG00000033813.15    3017             577             561             564   \n",
       "ENSMUSG00000103280.1     1111              20               3               0   \n",
       "\n",
       "                       mouse_4hr_rep2  \n",
       "Geneid                                 \n",
       "ENSMUSG00000103922.1                8  \n",
       "ENSMUSG00000033845.13             175  \n",
       "ENSMUSG00000025903.14             365  \n",
       "ENSMUSG00000033813.15             483  \n",
       "ENSMUSG00000103280.1                6  "
      ]
     },
     "execution_count": 13,
     "metadata": {},
     "output_type": "execute_result"
    }
   ],
   "source": [
    "counts_clean = counts.loc[genes_to_keep]\n",
    "print counts_clean.shape\n",
    "counts_clean.head()"
   ]
  },
  {
   "cell_type": "markdown",
   "metadata": {},
   "source": [
    "To find out how many True values were in our array, we can use .sum(). Sum in this case will count the number of Trues. (True has a value of 1, False has a value of 0). genes_to_keep.sum() should match the number of rows in our dataframe. Does it? "
   ]
  },
  {
   "cell_type": "code",
   "execution_count": 14,
   "metadata": {
    "collapsed": false
   },
   "outputs": [
    {
     "data": {
      "text/plain": [
       "16082"
      ]
     },
     "execution_count": 14,
     "metadata": {},
     "output_type": "execute_result"
    }
   ],
   "source": [
    "genes_to_keep.sum()"
   ]
  },
  {
   "cell_type": "markdown",
   "metadata": {},
   "source": [
    "For DESeq2, we need to provide a counts matrix. We are going to use the filtered counts matrix to get rid of the genes with 0 (or nearly 0) counts. But we don't want the length column. Remember to access only a few rows, give the name of the dataframe followed by square brackets. Inside that square bracket, give it a list of the columns you want to use. We made a list called samples so this is the list we will use to keep only our samples and ignore the Length column."
   ]
  },
  {
   "cell_type": "code",
   "execution_count": 15,
   "metadata": {
    "collapsed": false
   },
   "outputs": [
    {
     "data": {
      "text/html": [
       "<div>\n",
       "<table border=\"1\" class=\"dataframe\">\n",
       "  <thead>\n",
       "    <tr style=\"text-align: right;\">\n",
       "      <th></th>\n",
       "      <th>mouse_0hr_rep1</th>\n",
       "      <th>mouse_0hr_rep2</th>\n",
       "      <th>mouse_4hr_rep1</th>\n",
       "      <th>mouse_4hr_rep2</th>\n",
       "    </tr>\n",
       "    <tr>\n",
       "      <th>Geneid</th>\n",
       "      <th></th>\n",
       "      <th></th>\n",
       "      <th></th>\n",
       "      <th></th>\n",
       "    </tr>\n",
       "  </thead>\n",
       "  <tbody>\n",
       "    <tr>\n",
       "      <th>ENSMUSG00000103922.1</th>\n",
       "      <td>3</td>\n",
       "      <td>7</td>\n",
       "      <td>5</td>\n",
       "      <td>8</td>\n",
       "    </tr>\n",
       "    <tr>\n",
       "      <th>ENSMUSG00000033845.13</th>\n",
       "      <td>292</td>\n",
       "      <td>546</td>\n",
       "      <td>135</td>\n",
       "      <td>175</td>\n",
       "    </tr>\n",
       "    <tr>\n",
       "      <th>ENSMUSG00000025903.14</th>\n",
       "      <td>423</td>\n",
       "      <td>525</td>\n",
       "      <td>285</td>\n",
       "      <td>365</td>\n",
       "    </tr>\n",
       "    <tr>\n",
       "      <th>ENSMUSG00000033813.15</th>\n",
       "      <td>577</td>\n",
       "      <td>561</td>\n",
       "      <td>564</td>\n",
       "      <td>483</td>\n",
       "    </tr>\n",
       "    <tr>\n",
       "      <th>ENSMUSG00000103280.1</th>\n",
       "      <td>20</td>\n",
       "      <td>3</td>\n",
       "      <td>0</td>\n",
       "      <td>6</td>\n",
       "    </tr>\n",
       "  </tbody>\n",
       "</table>\n",
       "</div>"
      ],
      "text/plain": [
       "                       mouse_0hr_rep1  mouse_0hr_rep2  mouse_4hr_rep1  \\\n",
       "Geneid                                                                  \n",
       "ENSMUSG00000103922.1                3               7               5   \n",
       "ENSMUSG00000033845.13             292             546             135   \n",
       "ENSMUSG00000025903.14             423             525             285   \n",
       "ENSMUSG00000033813.15             577             561             564   \n",
       "ENSMUSG00000103280.1               20               3               0   \n",
       "\n",
       "                       mouse_4hr_rep2  \n",
       "Geneid                                 \n",
       "ENSMUSG00000103922.1                8  \n",
       "ENSMUSG00000033845.13             175  \n",
       "ENSMUSG00000025903.14             365  \n",
       "ENSMUSG00000033813.15             483  \n",
       "ENSMUSG00000103280.1                6  "
      ]
     },
     "execution_count": 15,
     "metadata": {},
     "output_type": "execute_result"
    }
   ],
   "source": [
    "counts_clean[samples].head()"
   ]
  },
  {
   "cell_type": "markdown",
   "metadata": {},
   "source": [
    "Save this dataframe as a csv. First define the directory where you want to save it. Make sure this directory exists (make it on your command line first). Call it deseq_dir. Put it in quotes to tell python this is a string. \n",
    "\n",
    "To save, use .to_csv() and put in the name of the file where you want to save it. This is the directory + a meaningful filename. spaces are important here, don't space between the directory and the string with the file name. Follow the syntax exactly as written below."
   ]
  },
  {
   "cell_type": "code",
   "execution_count": 17,
   "metadata": {
    "collapsed": false
   },
   "outputs": [],
   "source": [
    "deseq_dir = \"/home/ucsd-train40/projects/mouse_LPS/deseq2/\"\n",
    "\n",
    "counts_clean[samples].to_csv(deseq_dir+\"Mouse_LPS_counts_for_deseq2.csv\")"
   ]
  },
  {
   "cell_type": "markdown",
   "metadata": {},
   "source": [
    "DESeq2 also needs a conditions matrix where the row names are the sample names (that exactly match the column names from the counts matrix) and there is one column describing the condition that the sample came from. We can set the row names (index) directly when making a new dataframe by saying index = samples. Remember samples is a list of column names from our counts matrix above. "
   ]
  },
  {
   "cell_type": "code",
   "execution_count": 18,
   "metadata": {
    "collapsed": false
   },
   "outputs": [
    {
     "data": {
      "text/html": [
       "<div>\n",
       "<table border=\"1\" class=\"dataframe\">\n",
       "  <thead>\n",
       "    <tr style=\"text-align: right;\">\n",
       "      <th></th>\n",
       "    </tr>\n",
       "  </thead>\n",
       "  <tbody>\n",
       "    <tr>\n",
       "      <th>mouse_0hr_rep1</th>\n",
       "    </tr>\n",
       "    <tr>\n",
       "      <th>mouse_0hr_rep2</th>\n",
       "    </tr>\n",
       "    <tr>\n",
       "      <th>mouse_4hr_rep1</th>\n",
       "    </tr>\n",
       "    <tr>\n",
       "      <th>mouse_4hr_rep2</th>\n",
       "    </tr>\n",
       "  </tbody>\n",
       "</table>\n",
       "</div>"
      ],
      "text/plain": [
       "Empty DataFrame\n",
       "Columns: []\n",
       "Index: [mouse_0hr_rep1, mouse_0hr_rep2, mouse_4hr_rep1, mouse_4hr_rep2]"
      ]
     },
     "execution_count": 18,
     "metadata": {},
     "output_type": "execute_result"
    }
   ],
   "source": [
    "conditions = pd.DataFrame(index = samples)\n",
    "conditions.head()"
   ]
  },
  {
   "cell_type": "markdown",
   "metadata": {},
   "source": [
    "To make a new column in a dataframe, put square brackets after the dataframe with the new column name in quotes. In this dataframe, we will make a new column called 'condition'. Set this equal to a list of the values that you would like to fill this column. In our case, the values are knockdown or control depending on the sample. Look at the conditions dataframe with head to make sure it is doing what you think it is. "
   ]
  },
  {
   "cell_type": "code",
   "execution_count": 19,
   "metadata": {
    "collapsed": true
   },
   "outputs": [],
   "source": [
    "conditions['condition'] = ['knockdown','knockdown','control','control']"
   ]
  },
  {
   "cell_type": "code",
   "execution_count": 20,
   "metadata": {
    "collapsed": false
   },
   "outputs": [
    {
     "data": {
      "text/html": [
       "<div>\n",
       "<table border=\"1\" class=\"dataframe\">\n",
       "  <thead>\n",
       "    <tr style=\"text-align: right;\">\n",
       "      <th></th>\n",
       "      <th>condition</th>\n",
       "    </tr>\n",
       "  </thead>\n",
       "  <tbody>\n",
       "    <tr>\n",
       "      <th>mouse_0hr_rep1</th>\n",
       "      <td>knockdown</td>\n",
       "    </tr>\n",
       "    <tr>\n",
       "      <th>mouse_0hr_rep2</th>\n",
       "      <td>knockdown</td>\n",
       "    </tr>\n",
       "    <tr>\n",
       "      <th>mouse_4hr_rep1</th>\n",
       "      <td>control</td>\n",
       "    </tr>\n",
       "    <tr>\n",
       "      <th>mouse_4hr_rep2</th>\n",
       "      <td>control</td>\n",
       "    </tr>\n",
       "  </tbody>\n",
       "</table>\n",
       "</div>"
      ],
      "text/plain": [
       "                condition\n",
       "mouse_0hr_rep1  knockdown\n",
       "mouse_0hr_rep2  knockdown\n",
       "mouse_4hr_rep1    control\n",
       "mouse_4hr_rep2    control"
      ]
     },
     "execution_count": 20,
     "metadata": {},
     "output_type": "execute_result"
    }
   ],
   "source": [
    "conditions.head()"
   ]
  },
  {
   "cell_type": "markdown",
   "metadata": {},
   "source": [
    "Save this dataframe the same way we did before."
   ]
  },
  {
   "cell_type": "code",
   "execution_count": 21,
   "metadata": {
    "collapsed": true
   },
   "outputs": [],
   "source": [
    "conditions.to_csv(deseq_dir+\"Mouse_LPS_conditions_for_deseq2.csv\")"
   ]
  },
  {
   "cell_type": "markdown",
   "metadata": {},
   "source": [
    "We also want to save the counts matrix with the Length column. We need this to calculate TPM and FPKM, useful normalized read numbers that are used to quantify relative expression levels in RNA-seq data. Check out this [notebook]() for more details on calculating these numbers!\n",
    "\n",
    "Take a look at that dataframe to make sure it is what we want and save it to the featurecounts directory that you have likely already made. "
   ]
  },
  {
   "cell_type": "code",
   "execution_count": 22,
   "metadata": {
    "collapsed": false
   },
   "outputs": [
    {
     "data": {
      "text/html": [
       "<div>\n",
       "<table border=\"1\" class=\"dataframe\">\n",
       "  <thead>\n",
       "    <tr style=\"text-align: right;\">\n",
       "      <th></th>\n",
       "      <th>Length</th>\n",
       "      <th>mouse_0hr_rep1</th>\n",
       "      <th>mouse_0hr_rep2</th>\n",
       "      <th>mouse_4hr_rep1</th>\n",
       "      <th>mouse_4hr_rep2</th>\n",
       "    </tr>\n",
       "    <tr>\n",
       "      <th>Geneid</th>\n",
       "      <th></th>\n",
       "      <th></th>\n",
       "      <th></th>\n",
       "      <th></th>\n",
       "      <th></th>\n",
       "    </tr>\n",
       "  </thead>\n",
       "  <tbody>\n",
       "    <tr>\n",
       "      <th>ENSMUSG00000103922.1</th>\n",
       "      <td>1069</td>\n",
       "      <td>3</td>\n",
       "      <td>7</td>\n",
       "      <td>5</td>\n",
       "      <td>8</td>\n",
       "    </tr>\n",
       "    <tr>\n",
       "      <th>ENSMUSG00000033845.13</th>\n",
       "      <td>8487</td>\n",
       "      <td>292</td>\n",
       "      <td>546</td>\n",
       "      <td>135</td>\n",
       "      <td>175</td>\n",
       "    </tr>\n",
       "    <tr>\n",
       "      <th>ENSMUSG00000025903.14</th>\n",
       "      <td>7145</td>\n",
       "      <td>423</td>\n",
       "      <td>525</td>\n",
       "      <td>285</td>\n",
       "      <td>365</td>\n",
       "    </tr>\n",
       "    <tr>\n",
       "      <th>ENSMUSG00000033813.15</th>\n",
       "      <td>3017</td>\n",
       "      <td>577</td>\n",
       "      <td>561</td>\n",
       "      <td>564</td>\n",
       "      <td>483</td>\n",
       "    </tr>\n",
       "    <tr>\n",
       "      <th>ENSMUSG00000103280.1</th>\n",
       "      <td>1111</td>\n",
       "      <td>20</td>\n",
       "      <td>3</td>\n",
       "      <td>0</td>\n",
       "      <td>6</td>\n",
       "    </tr>\n",
       "  </tbody>\n",
       "</table>\n",
       "</div>"
      ],
      "text/plain": [
       "                       Length  mouse_0hr_rep1  mouse_0hr_rep2  mouse_4hr_rep1  \\\n",
       "Geneid                                                                          \n",
       "ENSMUSG00000103922.1     1069               3               7               5   \n",
       "ENSMUSG00000033845.13    8487             292             546             135   \n",
       "ENSMUSG00000025903.14    7145             423             525             285   \n",
       "ENSMUSG00000033813.15    3017             577             561             564   \n",
       "ENSMUSG00000103280.1     1111              20               3               0   \n",
       "\n",
       "                       mouse_4hr_rep2  \n",
       "Geneid                                 \n",
       "ENSMUSG00000103922.1                8  \n",
       "ENSMUSG00000033845.13             175  \n",
       "ENSMUSG00000025903.14             365  \n",
       "ENSMUSG00000033813.15             483  \n",
       "ENSMUSG00000103280.1                6  "
      ]
     },
     "execution_count": 22,
     "metadata": {},
     "output_type": "execute_result"
    }
   ],
   "source": [
    "counts_clean.head()"
   ]
  },
  {
   "cell_type": "code",
   "execution_count": null,
   "metadata": {
    "collapsed": true
   },
   "outputs": [],
   "source": []
  },
  {
   "cell_type": "code",
   "execution_count": 24,
   "metadata": {
    "collapsed": false
   },
   "outputs": [],
   "source": [
    "feature_counts_dir = \"/home/ucsd-train40/projects/mouse_LPS/featurecounts/\"\n",
    "\n",
    "counts_clean.to_csv(feature_counts_dir+\"Mouse_LPS_clean_counts_with_length.csv\")"
   ]
  },
  {
   "cell_type": "code",
   "execution_count": null,
   "metadata": {
    "collapsed": true
   },
   "outputs": [],
   "source": []
  }
 ],
 "metadata": {
  "kernelspec": {
   "display_name": "Python 2",
   "language": "python",
   "name": "python2"
  },
  "language_info": {
   "codemirror_mode": {
    "name": "ipython",
    "version": 2
   },
   "file_extension": ".py",
   "mimetype": "text/x-python",
   "name": "python",
   "nbconvert_exporter": "python",
   "pygments_lexer": "ipython2",
   "version": "2.7.12"
  }
 },
 "nbformat": 4,
 "nbformat_minor": 0
}
