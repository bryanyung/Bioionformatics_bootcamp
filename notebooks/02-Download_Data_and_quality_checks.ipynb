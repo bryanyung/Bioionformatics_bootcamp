{
 "cells": [
  {
   "cell_type": "markdown",
   "metadata": {},
   "source": [
    "# Download fastq files from the web and run fastqc to look at the quality of the sequencing run"
   ]
  },
  {
   "cell_type": "markdown",
   "metadata": {},
   "source": [
    "**Step 1: Download dataset**\n",
    "\n",
    "\n",
    "First we will download our raw sequencing data. We will be using the [ENCODE](https://www.encodeproject.org/) database as our main source, due to its wide availability and thoroughness in data quality. There are many different experiments and datasets available here. You can download both raw and fully processed data. \n",
    "\n",
    "For our learning purposes, we will download the raw data (fastq). We want to look at a biologically relevant dataset that we know will have noticeable changes in gene expression. So, let's take a look at RNA-seq data from mouse dendritic cells that have been activated *in vitro* with the endotoxin lipopolysaccharide (LPS) [here](https://www.encodeproject.org/experiments/ENCSR085TSA/), as well as control cells [here](https://www.encodeproject.org/experiments/ENCSR945SYV/). This will be a relatively small, easy to work with dataset that should have some very useful information.\n",
    "\n",
    "Let's find the fastq files now. Go down to the \"Files\" section and click on the \"File details\" tab. Under the \"Raw sequencing data\" we can find our fastq files. When you have found the link to the fastq files, right click on it and select \"copy Link Address\". ENCODE also has processed data files that have already been aligned (sometimes to different genome builds including mm9) and quantified. In order to run the entire pipeline, we only want the raw reads stored in fastq.  \n",
    "\n",
    "Then on TSCC, put your file in the proper directory by first moving into the directory where you would like your data to end up, and then pasting the link you have copied after the \"wget\" command. (Remember this is what we did when we downloaded Anaconda). Keep in mind that this data is paired-end, so there are two reads per dataset (R1 and R2). So you will need to download two files per sample. \n",
    "\n",
    "    cd ~/raw_data/\n",
    "    \n",
    "Let's make a directory in raw_data specifically for the raw data for this project. \n",
    "\n",
    "    mkdir ~/raw_data/mouse_LPS/\n",
    "    \n",
    "Then move into that directory before running wget. REMEMBER TO USE TABS TO EASILY MOVE BETWEEN DIRECTORIES. \n",
    "\n",
    "    cd ~/raw_data/mouse_LPS/\n",
    "\n",
    "    wget https://www.encodeproject.org/files/ENCFF178GZL/@@download/ENCFF178GZL.fastq.gz\n",
    "    \n",
    "    wget https://www.encodeproject.org/files/ENCFF925PIZ/@@download/ENCFF925PIZ.fastq.gz \n",
    "    \n",
    "*NOTE* - to avoid a backlog on the head node with all of us downloading the same datasets, please make a softlinks to the files that I have already downloaded and stored them in our shared folder for later use:\n",
    "\n",
    "    ~/bms_2018/rna_seq/raw_data/\n",
    "    \n",
    "    \n",
    "Here you will find fastq files named:\n",
    "    \n",
    "    mouse_0hr_rep1_R1.fastq.gz\n",
    "    mouse_0hr_rep1_R2.fastq.gz\n",
    "    mouse_0hr_rep2_R1.fastq.gz\n",
    "    mouse_0hr_rep2_R2.fastq.gz\n",
    "    \n",
    "    \n",
    "    mouse_4hr_rep1_R1.fastq.gz    \n",
    "    mouse_4hr_rep1_R2.fastq.gz\n",
    "    mouse_4hr_rep2_R1.fastq.gz\n",
    "    mouse_4hr_rep2_R2.fastq.gz\n",
    "      \n",
    "\n",
    "\n",
    "***Note*** If you do plan on downloading datasets, be sure use mv to rename your files something more meaningful. It is too difficult to go throug the remainder of the pipeline steps with coded language:\n",
    "\n",
    "    mv ENCFF178GZL.fastq.gz mouse_0hr_rep1_R1.fastq.gz\n",
    "    mv ENCFF925PIZ.fastq.gz mouse_0hr_rep1_R2.fastq.gz"
   ]
  },
  {
   "cell_type": "markdown",
   "metadata": {},
   "source": [
    "**Step 2: Run fastqc to check the sequencing quality of the reads that you downloaded. Remember that we installed fastqc with:**\n",
    "\n",
    "    conda install -c bioconda fastqc\n",
    "    \n",
    "You can see that it has installed properly with:\n",
    "\n",
    "    which fastqc\n",
    "    \n",
    "The output should be something like:\n",
    "\n",
    "    ~/anaconda2/bin/fastqc\n",
    "    \n",
    "*Q. Why is it finding the program in this location?*\n",
    "\n",
    "Let's make a directory in projects for our new fto_shrna project, and make another directory within that folder for the restuls of our fastqc run.\n",
    "\n",
    "\n",
    "    mkdir ~/projects/mouse_LPS/\n",
    "    mkdir ~/projects/mouse_LPS/fastqc/\n",
    "    \n",
    "For future reference, you could aternatively use the -p flag to make the fastqc directory and its parent directory (fto_shrna/) in one step:\n",
    "\n",
    "    mkdir -p ~/projects/mouse_LPS/fastqc/\n",
    "    \n",
    "\n",
    "Let's run fastqc to check the quality of your sequencing results. Remember to specify the *full path* of where your datasets are stored and where you want the processed data to end up. You will have to do this one one file at a time. REMEMBER TO USE TABS TO AVOID TYPOS! The -o argument is used to specify the location of the output files.\n",
    "\n",
    "    fastqc cd ~/raw_data/mouse_LPS/ENCFF178GZL.fastq.gz -o ~/projects/mouse_LPS/fastqc/\n",
    "\n",
    "By the way, how do we find out more about the fastqc command? Try the following:\n",
    "\n",
    "    fastqc --help\n",
    "\n",
    "If you could not download the files yourself, run from the shared folder \n",
    "    \n",
    "    fastqc ~/bms_2018/rna_seq/raw_data/mouse_0hr_rep1_R1.fastq.gz -o ~/projects/mouse_LPS/fastqc/\n",
    "\n",
    "This wil take a few minutes to run. When finished, you should have a .zip file and a .html file.\n"
   ]
  },
  {
   "cell_type": "markdown",
   "metadata": {},
   "source": [
    "**Step 3: View your output files in a web browser:**\n",
    "\n",
    "We'll use a simple method called secure copy (SCP) to transfer the html address to our local machine. For alternative means of file transferring, try looking into the [SSHFS notebook](https://github.com/ryanmarina/BMS_bioinformatics_bootcamp_2018/blob/master/tutorials/SSHFS_installs.ipynb) in your own free time.\n",
    "\n",
    "For SCP, on our LOCAL MACHINE, we will type the following command to transfer files from our TSCC account to our Desktop in order to access with a web browser:\n",
    "\n",
    "\n",
    "\n",
    "    "
   ]
  },
  {
   "cell_type": "code",
   "execution_count": null,
   "metadata": {
    "collapsed": true
   },
   "outputs": [],
   "source": []
  }
 ],
 "metadata": {
  "kernelspec": {
   "display_name": "Python [Root]",
   "language": "python",
   "name": "Python [Root]"
  },
  "language_info": {
   "codemirror_mode": {
    "name": "ipython",
    "version": 2
   },
   "file_extension": ".py",
   "mimetype": "text/x-python",
   "name": "python",
   "nbconvert_exporter": "python",
   "pygments_lexer": "ipython2",
   "version": "2.7.12"
  }
 },
 "nbformat": 4,
 "nbformat_minor": 1
}
